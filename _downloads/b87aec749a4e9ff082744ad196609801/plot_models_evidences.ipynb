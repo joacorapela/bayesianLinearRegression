{
  "cells": [
    {
      "cell_type": "markdown",
      "metadata": {},
      "source": [
        "\n# Model evidence\n\nCalculation of the marginalized log likelihood for models of different\npolynomial order.\n"
      ]
    },
    {
      "cell_type": "markdown",
      "metadata": {},
      "source": [
        "## Import requirments\n\n"
      ]
    },
    {
      "cell_type": "code",
      "execution_count": null,
      "metadata": {
        "collapsed": false
      },
      "outputs": [],
      "source": [
        "import numpy as np\nimport plotly.graph_objects as go\n\nimport bayesianLinearRegression"
      ]
    },
    {
      "cell_type": "markdown",
      "metadata": {},
      "source": [
        "## Define functions to generate the design matrix sinusoidal regression data\n\n"
      ]
    },
    {
      "cell_type": "code",
      "execution_count": null,
      "metadata": {
        "collapsed": false
      },
      "outputs": [],
      "source": [
        "def getPolynomialBasisFunctions(M):\n    basis_functions = [None for m in range(M+1)]\n    for m in range(M+1):\n        basis_functions[m] = lambda x, m=m: x**m\n    return basis_functions\n\n\ndef buildDesignMatrixRow(x, basis_functions):\n    M = len(basis_functions)\n    design_matrix_row = np.empty(shape=M, dtype=np.double)\n    for m in range(M):\n        design_matrix_row[m] = basis_functions[m](x)\n    return design_matrix_row\n\n\ndef buildDesignMatrix(x, basis_functions):\n    M = len(basis_functions)\n    N = len(x)\n    design_matrix = np.empty(shape=(N, M), dtype=np.double)\n    for n in range(N):\n        design_matrix[n, :] = buildDesignMatrixRow(\n            x=x[n], basis_functions=basis_functions)\n    return design_matrix"
      ]
    },
    {
      "cell_type": "markdown",
      "metadata": {},
      "source": [
        "## Define a function to generate polynomial data\n\n"
      ]
    },
    {
      "cell_type": "code",
      "execution_count": null,
      "metadata": {
        "collapsed": false
      },
      "outputs": [],
      "source": [
        "def generateData(x, sigma, coefs):\n    basis_functions = getPolynomialBasisFunctions(M=len(coefs)-1)\n    Phi = buildDesignMatrix(x=x, basis_functions=basis_functions)\n    y = Phi @ coefs\n    noise = np.random.normal(loc=0, scale=sigma, size=len(y))\n    t = y + noise\n    return y, t"
      ]
    },
    {
      "cell_type": "markdown",
      "metadata": {},
      "source": [
        "## Set estimation parameters\n\n"
      ]
    },
    {
      "cell_type": "code",
      "execution_count": null,
      "metadata": {
        "collapsed": false
      },
      "outputs": [],
      "source": [
        "prior_precision = 10.0\nlikelihood_precision = 10.0"
      ]
    },
    {
      "cell_type": "markdown",
      "metadata": {},
      "source": [
        "## Generate data\n\n"
      ]
    },
    {
      "cell_type": "code",
      "execution_count": null,
      "metadata": {
        "collapsed": false
      },
      "outputs": [],
      "source": [
        "N = 50\nx = 1.0 + np.random.uniform(size=N)\n\n# we generate data with M+1=5 coefficients, so that the marginalized log\n# likelihood should attain its maximum at M=4 (see Figure at the bottom).\n_, y = generateData(x=x, sigma=1.0/likelihood_precision,\n                    coefs=np.array([-0.5, 0.5, -0.5, 0.5, -0.5]))"
      ]
    },
    {
      "cell_type": "markdown",
      "metadata": {},
      "source": [
        "## Calculate model evindences\n\n"
      ]
    },
    {
      "cell_type": "code",
      "execution_count": null,
      "metadata": {
        "collapsed": false
      },
      "outputs": [],
      "source": [
        "Ms = np.arange(10)\nlog_evidences = [None for m in Ms]\nfor M in Ms:\n    basis_functions = getPolynomialBasisFunctions(M=M)\n    Phi = buildDesignMatrix(x=x, basis_functions=basis_functions)\n    mN, SN = bayesianLinearRegression.batchWithSimplePrior(\n        Phi=Phi, y=y, alpha=prior_precision, beta=likelihood_precision)\n    log_evidences[M] = bayesianLinearRegression.computeLogEvidence(\n        Phi=Phi, y=y, mN=mN, SN=SN,\n        alpha=prior_precision, beta=likelihood_precision)"
      ]
    },
    {
      "cell_type": "markdown",
      "metadata": {},
      "source": [
        "Plot models' log evidences (log evidence should maximize for M=4; see\nGenerate data above)\n-----------------------------------------------------------------\n\n"
      ]
    },
    {
      "cell_type": "code",
      "execution_count": null,
      "metadata": {
        "collapsed": false
      },
      "outputs": [],
      "source": [
        "fig = go.Figure()\ntrace = go.Scatter(x=Ms, y=log_evidences, mode=\"lines+markers\",\n                   line=dict(color=\"blue\"))\nfig.add_trace(trace)\nfig.update_layout(xaxis_title=\"M\",\n                  yaxis_title=r\"$\\log p(\\mathbf{y}|\\alpha,\\beta)$\")\nfig\n\n\n# sphinx_gallery_thumbnail_path = '_static/model_evidence.png'"
      ]
    }
  ],
  "metadata": {
    "kernelspec": {
      "display_name": "Python 3",
      "language": "python",
      "name": "python3"
    },
    "language_info": {
      "codemirror_mode": {
        "name": "ipython",
        "version": 3
      },
      "file_extension": ".py",
      "mimetype": "text/x-python",
      "name": "python",
      "nbconvert_exporter": "python",
      "pygments_lexer": "ipython3",
      "version": "3.12.3"
    }
  },
  "nbformat": 4,
  "nbformat_minor": 0
}